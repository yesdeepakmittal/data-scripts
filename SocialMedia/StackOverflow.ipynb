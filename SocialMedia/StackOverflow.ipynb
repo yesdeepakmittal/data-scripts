{
 "cells": [
  {
   "cell_type": "code",
   "execution_count": 11,
   "id": "1f86ce13",
   "metadata": {},
   "outputs": [],
   "source": [
    "import requests"
   ]
  },
  {
   "cell_type": "code",
   "execution_count": 12,
   "id": "bbf14313",
   "metadata": {},
   "outputs": [
    {
     "data": {
      "text/plain": [
       "<Response [200]>"
      ]
     },
     "execution_count": 12,
     "metadata": {},
     "output_type": "execute_result"
    }
   ],
   "source": [
    "response = requests.get('http://api.stackexchange.com/2.3/questions?order=desc&sort=activity&site=stackoverflow')\n",
    "response"
   ]
  },
  {
   "cell_type": "code",
   "execution_count": 5,
   "id": "91433785",
   "metadata": {},
   "outputs": [
    {
     "data": {
      "text/plain": [
       "{'tags': ['flask', 'flask-sqlalchemy', 'flask-restful'],\n",
       " 'owner': {'account_id': 13578557,\n",
       "  'reputation': 319,\n",
       "  'user_id': 9795265,\n",
       "  'user_type': 'registered',\n",
       "  'profile_image': 'https://i.stack.imgur.com/0F1LJ.jpg?s=256&g=1',\n",
       "  'display_name': 'Atif Shafi',\n",
       "  'link': 'https://stackoverflow.com/users/9795265/atif-shafi'},\n",
       " 'is_answered': False,\n",
       " 'view_count': 7,\n",
       " 'answer_count': 0,\n",
       " 'score': 0,\n",
       " 'last_activity_date': 1634481753,\n",
       " 'creation_date': 1634477708,\n",
       " 'last_edit_date': 1634481753,\n",
       " 'question_id': 69604853,\n",
       " 'content_license': 'CC BY-SA 4.0',\n",
       " 'link': 'https://stackoverflow.com/questions/69604853/missing-1-required-positional-argument-flask',\n",
       " 'title': 'missing 1 required positional argument: Flask'}"
      ]
     },
     "execution_count": 5,
     "metadata": {},
     "output_type": "execute_result"
    }
   ],
   "source": [
    "response.json().get('items')[0]"
   ]
  },
  {
   "cell_type": "code",
   "execution_count": 6,
   "id": "448cc0d4",
   "metadata": {},
   "outputs": [
    {
     "name": "stdout",
     "output_type": "stream",
     "text": [
      "Tags: ['flask', 'flask-sqlalchemy', 'flask-restful']\n",
      "Title: missing 1 required positional argument: Flask\n",
      "\n",
      "Tags: ['algorithm', 'function']\n",
      "Title: Codility PermMissingElem\n",
      "\n",
      "Tags: ['arrays', 'numpy', 'tiff', 'rasterio']\n",
      "Title: Rasterio Creating TIFF file\n",
      "\n",
      "Tags: ['nlp']\n",
      "Title: Japanese Search Engine- NLP\n",
      "\n",
      "Tags: ['firebase-realtime-database', 'firebase-authentication', 'firebase-security']\n",
      "Title: Is it possible to make a Firebase Realtime database node accessible to only 2 specific users?\n",
      "\n",
      "Tags: ['git', 'git-rebase']\n",
      "Title: What is the use case of allow empty commit in git rebase -i\n",
      "\n",
      "Tags: ['scala', 'apache-spark']\n",
      "Title: Distribute third-party jar dependency on large-scale spark application\n",
      "\n",
      "Tags: ['discord', 'discord.py', 'bots']\n",
      "Title: Welcome message Discord.py\n",
      "\n",
      "Tags: ['bash', 'kubernetes', 'command-line-interface', 'airflow']\n",
      "Title: Run CLI command from BashOperator in Kubernete\n",
      "\n",
      "Tags: ['java', 'android', 'android-studio']\n",
      "Title: identifying a number that is not stored in the contacts during an incoming or outgoing call\n",
      "\n",
      "Tags: ['bash', 'vim', 'command-line']\n",
      "Title: Ctrl-P doesn&#39;t work on vi mode of command line editing on mac terminal\n",
      "\n",
      "Tags: ['amazon-web-services', 'amazon-rds']\n",
      "Title: AWS RDS - Policy to Limit Autoscaling Threshold\n",
      "\n",
      "Tags: ['angular', 'angular-cli', 'econnreset']\n",
      "Title: Angular - Connects to Proxy server and gets response but then shows Error occured while trying to proxy to: localhost to actual server\n",
      "\n",
      "Tags: ['java', 'arraylist']\n",
      "Title: IF condition and LOOP&#39;ing throuh an ArrayList\n",
      "\n",
      "Tags: ['c#', 'generics', 'collections']\n",
      "Title: C# generic collection in a non-generic class\n",
      "\n",
      "Tags: ['maven', 'gnupg']\n",
      "Title: Failed to execute goal org.apache.maven.plugins:maven-gpg-plugin:1.5:sign (sign-artifacts) on project botlibrary: Exit code: 1 -&gt; [Help 1]\n",
      "\n",
      "Tags: ['powershell', 'windows-10', 'environment-variables']\n",
      "Title: Powershell SetEnvironmentVariable not setting the variables as expected\n",
      "\n",
      "Tags: ['r', 'ggplot2', 'roman-numerals']\n",
      "Title: How to use roman numerals in ggplot&#39;s scale_x_date?\n",
      "\n",
      "Tags: ['c++', 'arrays', 'algorithm', 'pointers', 'stack']\n",
      "Title: Find number of pairs in the array such that all the elements between those pairs present in the array are smaller than the pairs itself\n",
      "\n",
      "Tags: ['javascript']\n",
      "Title: getMonth getUTCMonth difference result\n",
      "\n",
      "Tags: ['mysql', 'sql']\n",
      "Title: SELECT every employee that has a higher salary than the AVERAGE of his department\n",
      "\n",
      "Tags: ['c#', 'wpf', 'xaml']\n",
      "Title: Is it possible to move the style for DataGridCell to another, separate file?\n",
      "\n",
      "Tags: ['java', 'asynchronous', 'recursion', 'reactive-programming', 'spring-webflux']\n",
      "Title: Building a Recursive Data Structure with Spring WebFlux\n",
      "\n",
      "Tags: ['sql', 'presto']\n",
      "Title: Join SQL tables where an element is present in a list\n",
      "\n",
      "Tags: ['jsf', 'primefaces']\n",
      "Title: Primefaces TreeTable doesnt update when adding new items to it\n",
      "\n",
      "Tags: ['python', 'session', 'post', 'python-requests', 'get']\n",
      "Title: Requests Python can&#39;t keep login when accessing another path\n",
      "\n",
      "Tags: ['python', 'list', 'dictionary', 'for-loop']\n",
      "Title: How to make the next &#39;for&#39; loop continue loop from previous one through dictionary?\n",
      "\n",
      "Tags: ['powerbi', 'dax']\n",
      "Title: Dax: If entry number exist in predefined period, but also in period after - then also sum in the period after\n",
      "\n",
      "Tags: ['convox']\n",
      "Title: Convox CLI deploy gives 502 response\n",
      "\n",
      "Tags: ['python', 'opencv', 'computer-vision']\n",
      "Title: Concatenating two images horizontally - results with one black image\n",
      "\n"
     ]
    }
   ],
   "source": [
    "for i in response.json()['items']:\n",
    "    print('Tags: ' + str(i['tags']))\n",
    "    print('Title: ' + i['title'])\n",
    "    print()"
   ]
  }
 ],
 "metadata": {
  "interpreter": {
   "hash": "108ef16d1ee03905dfbafe44d5b3e610a1f1579a68c7f1fd06ea7e2b83fc5f3b"
  },
  "kernelspec": {
   "display_name": "Python 3.9.6 64-bit",
   "name": "python3"
  },
  "language_info": {
   "codemirror_mode": {
    "name": "ipython",
    "version": 3
   },
   "file_extension": ".py",
   "mimetype": "text/x-python",
   "name": "python",
   "nbconvert_exporter": "python",
   "pygments_lexer": "ipython3",
   "version": "3.9.6"
  }
 },
 "nbformat": 4,
 "nbformat_minor": 5
}
