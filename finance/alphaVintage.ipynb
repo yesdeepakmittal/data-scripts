{
 "cells": [
  {
   "cell_type": "code",
   "execution_count": null,
   "metadata": {},
   "outputs": [],
   "source": [
    "# https://github.com/RomelTorres/alpha_vantage\n",
    "!pip install alpha_vantage"
   ]
  },
  {
   "cell_type": "code",
   "execution_count": 2,
   "metadata": {},
   "outputs": [],
   "source": [
    "import pandas as pd\n",
    "import time\n",
    "from alpha_vantage.timeseries import TimeSeries"
   ]
  },
  {
   "cell_type": "code",
   "execution_count": 19,
   "metadata": {},
   "outputs": [
    {
     "data": {
      "text/plain": [
       "(2370, 5)"
      ]
     },
     "execution_count": 19,
     "metadata": {},
     "output_type": "execute_result"
    }
   ],
   "source": [
    "key = open(f'C:\\\\Users\\\\deep\\\\Desktop\\\\key.txt','r').read() #https://www.alphavantage.co/support/#api-key\n",
    "\n",
    "ts = TimeSeries(key=key,output_format='pandas')\n",
    "df = ts.get_daily(symbol='FB',outputsize='full')[0]  #full/compact\n",
    "df.columns = ['Open','High','Low','Close','Volume']\n",
    "df.shape"
   ]
  },
  {
   "cell_type": "code",
   "execution_count": 20,
   "metadata": {},
   "outputs": [
    {
     "data": {
      "text/html": [
       "<div>\n",
       "<style scoped>\n",
       "    .dataframe tbody tr th:only-of-type {\n",
       "        vertical-align: middle;\n",
       "    }\n",
       "\n",
       "    .dataframe tbody tr th {\n",
       "        vertical-align: top;\n",
       "    }\n",
       "\n",
       "    .dataframe thead th {\n",
       "        text-align: right;\n",
       "    }\n",
       "</style>\n",
       "<table border=\"1\" class=\"dataframe\">\n",
       "  <thead>\n",
       "    <tr style=\"text-align: right;\">\n",
       "      <th></th>\n",
       "      <th>Open</th>\n",
       "      <th>High</th>\n",
       "      <th>Low</th>\n",
       "      <th>Close</th>\n",
       "      <th>Volume</th>\n",
       "    </tr>\n",
       "    <tr>\n",
       "      <th>date</th>\n",
       "      <th></th>\n",
       "      <th></th>\n",
       "      <th></th>\n",
       "      <th></th>\n",
       "      <th></th>\n",
       "    </tr>\n",
       "  </thead>\n",
       "  <tbody>\n",
       "    <tr>\n",
       "      <th>2021-10-18</th>\n",
       "      <td>328.950</td>\n",
       "      <td>335.89</td>\n",
       "      <td>327.50</td>\n",
       "      <td>335.34</td>\n",
       "      <td>21585018.0</td>\n",
       "    </tr>\n",
       "    <tr>\n",
       "      <th>2021-10-15</th>\n",
       "      <td>328.680</td>\n",
       "      <td>329.07</td>\n",
       "      <td>322.51</td>\n",
       "      <td>324.76</td>\n",
       "      <td>21596370.0</td>\n",
       "    </tr>\n",
       "    <tr>\n",
       "      <th>2021-10-14</th>\n",
       "      <td>328.355</td>\n",
       "      <td>330.52</td>\n",
       "      <td>327.10</td>\n",
       "      <td>328.53</td>\n",
       "      <td>14302154.0</td>\n",
       "    </tr>\n",
       "    <tr>\n",
       "      <th>2021-10-13</th>\n",
       "      <td>326.970</td>\n",
       "      <td>327.00</td>\n",
       "      <td>322.66</td>\n",
       "      <td>324.54</td>\n",
       "      <td>14761470.0</td>\n",
       "    </tr>\n",
       "    <tr>\n",
       "      <th>2021-10-12</th>\n",
       "      <td>323.030</td>\n",
       "      <td>324.38</td>\n",
       "      <td>317.37</td>\n",
       "      <td>323.77</td>\n",
       "      <td>31658684.0</td>\n",
       "    </tr>\n",
       "  </tbody>\n",
       "</table>\n",
       "</div>"
      ],
      "text/plain": [
       "               Open    High     Low   Close      Volume\n",
       "date                                                   \n",
       "2021-10-18  328.950  335.89  327.50  335.34  21585018.0\n",
       "2021-10-15  328.680  329.07  322.51  324.76  21596370.0\n",
       "2021-10-14  328.355  330.52  327.10  328.53  14302154.0\n",
       "2021-10-13  326.970  327.00  322.66  324.54  14761470.0\n",
       "2021-10-12  323.030  324.38  317.37  323.77  31658684.0"
      ]
     },
     "execution_count": 20,
     "metadata": {},
     "output_type": "execute_result"
    }
   ],
   "source": [
    "data.head()"
   ]
  },
  {
   "cell_type": "code",
   "execution_count": 22,
   "metadata": {},
   "outputs": [
    {
     "name": "stdout",
     "output_type": "stream",
     "text": [
      "Time taken for One iteration: 5.767131328582764\n"
     ]
    }
   ],
   "source": [
    "#max api calling limit is 5 tickers per minute/ 500 calls per day\n",
    "\n",
    "faangm_stocks = ['FB','AMZN','AAPL','NFLX','GOOGL','MSFT']\n",
    "df = pd.DataFrame()\n",
    "count = 0\n",
    "for stock in faangm_stocks:\n",
    "    start = time.time()\n",
    "    ts = TimeSeries(key=key,output_format='pandas')\n",
    "    temp = ts.get_intraday(symbol=stock,interval='1min',outputsize='full')[0]  \n",
    "    count +=1\n",
    "    temp.columns = ['Open','High','Low','Close','Volume']\n",
    "    df[stock]= temp['Close']\n",
    "    if count == 5:\n",
    "        count = 0\n",
    "        print(\"Time taken for One iteration: \"+str(time.time()-start)) #time of single iteration in seconds\n",
    "        time.sleep(60-(time.time()-start)*5) #60 seconds - time consumed in first 5 iteration"
   ]
  },
  {
   "cell_type": "code",
   "execution_count": 23,
   "metadata": {},
   "outputs": [
    {
     "data": {
      "text/plain": [
       "(6184, 6)"
      ]
     },
     "execution_count": 23,
     "metadata": {},
     "output_type": "execute_result"
    }
   ],
   "source": [
    "df.shape"
   ]
  }
 ],
 "metadata": {
  "interpreter": {
   "hash": "108ef16d1ee03905dfbafe44d5b3e610a1f1579a68c7f1fd06ea7e2b83fc5f3b"
  },
  "kernelspec": {
   "display_name": "Python 3.9.6 64-bit",
   "name": "python3"
  },
  "language_info": {
   "codemirror_mode": {
    "name": "ipython",
    "version": 3
   },
   "file_extension": ".py",
   "mimetype": "text/x-python",
   "name": "python",
   "nbconvert_exporter": "python",
   "pygments_lexer": "ipython3",
   "version": "3.9.6"
  },
  "orig_nbformat": 4
 },
 "nbformat": 4,
 "nbformat_minor": 2
}
